{
 "cells": [
  {
   "cell_type": "markdown",
   "metadata": {},
   "source": [
    "# Assignment 1\n",
    "\n",
    "De titanic dataset gaat over een schip dat op 15 april 1912 zonk na een aanvaring met een ijsberg. Er waren helaas niet genoeg reddingsboten voor iedereen aan boord. Dit resulteerde in de dood van 1502 van de 2224 passagiers en bemanningsleden.\n",
    "\n",
    "Er was een bepaald gelukselement betrokken bij het overleven, maar het lijkt erop dat sommige groepen mensen meer kans hadden om te overleven dan andere.\n",
    "\n",
    "Door PCA te gebruiken, willen we de gemeenschappelijke kenmerken begrijpen die verklaren waarom sommige passagiers het overleefden en andere niet. En groepeer vervolgens passagiers met dezelfde kenmerken samen met behulp van k-means.\n",
    "\n",
    "### De assignment kan als volgt worden ingedeeld:\n",
    "#### 1 De data laden\n",
    "#### 2 Begrijp de data en voer een verklarende analyse uit\n",
    "#### 3 Data preprocessing door de nodige manipulaties uit te voeren (normalisatie, string data wijzigen in numerieke waarden)\n",
    "#### 4 Het Principal Component Analysis-algoritme (PCA) gebruiken\n",
    "#### 5 K-means implementeren\n"
   ]
  },
  {
   "cell_type": "markdown",
   "metadata": {},
   "source": [
    "# 1 De data laden\n",
    "Maak een functie loaddata die de  die de path naar de titanic data als parameter krijgt en vervolgens de data in een dataframe laadt. Het dataframe wordt uiteindelijk geretourneerd door de functie"
   ]
  },
  {
   "cell_type": "code",
   "execution_count": 24,
   "metadata": {},
   "outputs": [],
   "source": [
    "import pandas as pd\n",
    "import matplotlib\n",
    "import matplotlib.pyplot as plt\n",
    "import numpy as np"
   ]
  },
  {
   "cell_type": "markdown",
   "metadata": {},
   "source": [
    "BETEKENIS KOLOMMEN\n",
    "\n",
    "    passengerId  -> unique value \n",
    "        survival -> Survival\t0 = No, 1 = Yes\n",
    "        pclass   ->\tTicket class\t1 = 1st, 2 = 2nd, 3 = 3rd\n",
    "        sex      ->\tSex\t                female, male \n",
    "        Age      ->\tAge in years\t\n",
    "        sibsp    ->\t# of siblings / spouses aboard the Titanic\t\n",
    "        parch    ->\t# of parents / children aboard the Titanic\t\n",
    "        ticket   ->\tTicket number\t\n",
    "        fare     ->\tPassenger fare\t\n",
    "        cabin    ->\tCabin number\t\n",
    "        embarked ->\tPort of Embarkation\tC = Cherbourg, Q = Queenstown, S = Southampton\n"
   ]
  },
  {
   "cell_type": "code",
   "execution_count": 25,
   "metadata": {},
   "outputs": [],
   "source": [
    "def loaddata(path):\n",
    "    #PassengerId is uniek. is gekozen als index \n",
    "    dataframe = pd.read_csv(path, index_col=\"PassengerId\") \n",
    "    return dataframe\n",
    "dataframe = loaddata(\"titanic.csv\")"
   ]
  },
  {
   "cell_type": "markdown",
   "metadata": {},
   "source": [
    "# 2 Data begrijpen \n",
    "### 2.1 Een samenvatting van de data krijgen"
   ]
  },
  {
   "cell_type": "code",
   "execution_count": 30,
   "metadata": {},
   "outputs": [],
   "source": [
    "def summary(dataframe):\n",
    "    print(dataframe.shape)# aantal rijen, aantal kolommen \n",
    "    print(list(dataframe.columns.values)) #lijst kolomnamen \n",
    "    print(dataframe.head(5)) # top 5 rijen \n",
    "    print(dataframe.tail(5)) #bottom 5 rijen\n",
    "    print(dataframe.info()) # info metadata titanic dataset \n"
   ]
  },
  {
   "cell_type": "code",
   "execution_count": 31,
   "metadata": {},
   "outputs": [
    {
     "name": "stdout",
     "output_type": "stream",
     "text": [
      "(891, 11)\n",
      "['Survived', 'Pclass', 'Name', 'Sex', 'Age', 'SibSp', 'Parch', 'Ticket', 'Fare', 'Cabin', 'Embarked']\n",
      "             Survived  Pclass  \\\n",
      "PassengerId                     \n",
      "1                   0       3   \n",
      "2                   1       1   \n",
      "3                   1       3   \n",
      "4                   1       1   \n",
      "5                   0       3   \n",
      "\n",
      "                                                          Name     Sex   Age  \\\n",
      "PassengerId                                                                    \n",
      "1                                      Braund, Mr. Owen Harris    male  22.0   \n",
      "2            Cumings, Mrs. John Bradley (Florence Briggs Th...  female  38.0   \n",
      "3                                       Heikkinen, Miss. Laina  female  26.0   \n",
      "4                 Futrelle, Mrs. Jacques Heath (Lily May Peel)  female  35.0   \n",
      "5                                     Allen, Mr. William Henry    male  35.0   \n",
      "\n",
      "             SibSp  Parch            Ticket     Fare Cabin Embarked  \n",
      "PassengerId                                                          \n",
      "1                1      0         A/5 21171   7.2500   NaN        S  \n",
      "2                1      0          PC 17599  71.2833   C85        C  \n",
      "3                0      0  STON/O2. 3101282   7.9250   NaN        S  \n",
      "4                1      0            113803  53.1000  C123        S  \n",
      "5                0      0            373450   8.0500   NaN        S  \n",
      "             Survived  Pclass                                      Name  \\\n",
      "PassengerId                                                               \n",
      "887                 0       2                     Montvila, Rev. Juozas   \n",
      "888                 1       1              Graham, Miss. Margaret Edith   \n",
      "889                 0       3  Johnston, Miss. Catherine Helen \"Carrie\"   \n",
      "890                 1       1                     Behr, Mr. Karl Howell   \n",
      "891                 0       3                       Dooley, Mr. Patrick   \n",
      "\n",
      "                Sex   Age  SibSp  Parch      Ticket   Fare Cabin Embarked  \n",
      "PassengerId                                                                \n",
      "887            male  27.0      0      0      211536  13.00   NaN        S  \n",
      "888          female  19.0      0      0      112053  30.00   B42        S  \n",
      "889          female   NaN      1      2  W./C. 6607  23.45   NaN        S  \n",
      "890            male  26.0      0      0      111369  30.00  C148        C  \n",
      "891            male  32.0      0      0      370376   7.75   NaN        Q  \n",
      "<class 'pandas.core.frame.DataFrame'>\n",
      "Int64Index: 891 entries, 1 to 891\n",
      "Data columns (total 11 columns):\n",
      " #   Column    Non-Null Count  Dtype  \n",
      "---  ------    --------------  -----  \n",
      " 0   Survived  891 non-null    int64  \n",
      " 1   Pclass    891 non-null    int64  \n",
      " 2   Name      891 non-null    object \n",
      " 3   Sex       891 non-null    object \n",
      " 4   Age       714 non-null    float64\n",
      " 5   SibSp     891 non-null    int64  \n",
      " 6   Parch     891 non-null    int64  \n",
      " 7   Ticket    891 non-null    object \n",
      " 8   Fare      891 non-null    float64\n",
      " 9   Cabin     204 non-null    object \n",
      " 10  Embarked  889 non-null    object \n",
      "dtypes: float64(2), int64(4), object(5)\n",
      "memory usage: 83.5+ KB\n",
      "None\n"
     ]
    }
   ],
   "source": [
    "summary(dataframe)"
   ]
  },
  {
   "cell_type": "markdown",
   "metadata": {},
   "source": [
    "### 2.2 Maak een paar plotten om de data te begrijpen\n",
    "Je kunt de variabelen en hun distributie bekijken"
   ]
  },
  {
   "cell_type": "code",
   "execution_count": 22,
   "metadata": {},
   "outputs": [],
   "source": [
    "import seaborn as sns # data visualization\n",
    "import matplotlib.pyplot as plt # matplotlib\n",
    "\n",
    "def visualize(dataframe): \n",
    "    fig, ax = plt.subplots(2,5,figsize=(25, 10))\n",
    "\n",
    "    sns.countplot(x=dataframe[\"Survived\"],ax=ax[0,0]) # count of survivors and deceased\n",
    "    sns.countplot(x=dataframe[\"Sex\"],ax=ax[0,1]) # Count of each sex\n",
    "\n",
    "#   Inzicht krijgen van variabele t.o.v. survival variabele  \n",
    "    sns.barplot(x=dataframe[\"Survived\"],y=dataframe[\"Pclass\"],ax=ax[0,3]) # Pclass vs survival\n",
    "    sns.barplot(x=dataframe[\"Survived\"],y=dataframe[\"Sex\"],ax=ax[0,2]) # Sex vs survival\n",
    "    sns.boxplot(x=dataframe[\"Survived\"],y=dataframe[\"Age\"],ax=ax[0,4]) # Age vs survival\n",
    "    sns.boxplot(x=dataframe[\"Survived\"],y=dataframe[\"Fare\"],ax=ax[1,0]) # Fare vs survival\n",
    "    sns.barplot(x=dataframe[\"Survived\"],y=dataframe[\"Embarked\"],ax=ax[1,1]) # Embark vs survived\n",
    "    sns.barplot(x=dataframe[\"Survived\"],y=dataframe[\"SibSp\"],ax=ax[1,2]) # SibSp vs survived\n",
    "    sns.barplot(x=dataframe[\"Survived\"],y=dataframe[\"Parch\"],ax=ax[1,3]) # Parch vs survived\n",
    "\n",
    "    dataframe[\"Cabin\"] = dataframe[\"Cabin\"].str[0]\n",
    "    sns.barplot(x=dataframe[\"Survived\"],y=dataframe[\"Cabin\"],ax=ax[1,4]) # Cabin vs survived\n",
    "\n",
    "    return fig.show()"
   ]
  },
  {
   "cell_type": "code",
   "execution_count": 23,
   "metadata": {},
   "outputs": [
    {
     "name": "stderr",
     "output_type": "stream",
     "text": [
      "<ipython-input-22-67b81bfb0ad0>:22: UserWarning: Matplotlib is currently using module://ipykernel.pylab.backend_inline, which is a non-GUI backend, so cannot show the figure.\n",
      "  return fig.show()\n"
     ]
    },
    {
     "data": {
      "image/png": "[encoded data removed]",
      "text/plain": [
       "<Figure size 1800x720 with 10 Axes>"
      ]
     },
     "metadata": {
      "needs_background": "light"
     },
     "output_type": "display_data"
    }
   ],
   "source": [
    "visualize(dataframe) #toont alle plots in 1 keer "
   ]
  },
  {
   "cell_type": "markdown",
   "metadata": {},
   "source": [
    "# 3 Data preprocessing\n",
    "In dit deel kijk je of er missing values in de dataset en ga je daar vervolgens op een of meerdere manieren mee om.3"
   ]
  },
  {
   "cell_type": "markdown",
   "metadata": {},
   "source": [
    "### 3-1 Onnodige kolommen verwijderen\n",
    "Creer een functie die onnodige kolommen verwijdert."
   ]
  },
  {
   "cell_type": "code",
   "execution_count": 170,
   "metadata": {},
   "outputs": [],
   "source": [
    "def deletecolumn(dataframe):\n",
    "    new_df = # ----Code hier\n",
    "    return new_df\n",
    "\n",
    "# outputDataframe = # ----Code hier\n",
    "\n",
    "dataframe.isnull().sum()\n",
    "#age= 177 nullwaarden en cabin heeft 687 null waarden. door teveel lege waarden verwijder ik cabin. \n",
    "dataframe_1 = dataframe.drop('Cabin', axis = 1)"
   ]
  },
  {
   "cell_type": "code",
   "execution_count": 168,
   "metadata": {},
   "outputs": [
    {
     "data": {
      "text/plain": [
       "PassengerId      0\n",
       "Survived         0\n",
       "Pclass           0\n",
       "Name             0\n",
       "Sex              0\n",
       "Age            177\n",
       "SibSp            0\n",
       "Parch            0\n",
       "Ticket           0\n",
       "Fare             0\n",
       "Embarked         2\n",
       "dtype: int64"
      ]
     },
     "execution_count": 168,
     "metadata": {},
     "output_type": "execute_result"
    }
   ],
   "source": [
    "dataframe_1.isnull().sum()"
   ]
  },
  {
   "cell_type": "markdown",
   "metadata": {},
   "source": [
    "###   3-2 Check missing values\n",
    "Maak een functie die controleert of de kenmerken in de Titanic data (doorgegeven als parameter) missing values hebben."
   ]
  },
  {
   "cell_type": "code",
   "execution_count": 3,
   "metadata": {},
   "outputs": [
    {
     "ename": "SyntaxError",
     "evalue": "unexpected EOF while parsing (<ipython-input-3-df62593a5076>, line 3)",
     "output_type": "error",
     "traceback": [
      "\u001b[1;36m  File \u001b[1;32m\"<ipython-input-3-df62593a5076>\"\u001b[1;36m, line \u001b[1;32m3\u001b[0m\n\u001b[1;33m    # ----- Code hier\u001b[0m\n\u001b[1;37m                     ^\u001b[0m\n\u001b[1;31mSyntaxError\u001b[0m\u001b[1;31m:\u001b[0m unexpected EOF while parsing\n"
     ]
    }
   ],
   "source": [
    "def checkMissing(dataframe):\n",
    "    \n",
    "    # ----- Code hier\n",
    "    \n",
    "    return numberMissingValues\n",
    "\n",
    "noMissingValues_df =  # ----Code hier"
   ]
  },
  {
   "cell_type": "markdown",
   "metadata": {},
   "source": [
    "###   3-3 Omgaan met missing values\n",
    "Maak een functie die de originele dataset met ontbrekende waarden accepteert en retourneert vervolgens de dataset waarin die missing values worden verwerkt."
   ]
  },
  {
   "cell_type": "code",
   "execution_count": null,
   "metadata": {},
   "outputs": [],
   "source": [
    "def dealMissing(dataframe):\n",
    "\n",
    "    # ---- Schrijf de code om de missing values van Age met de gemidelde te vullen\n",
    "    # ---- Schrijf de code om de missing values van Embarked met de meest voorkomende waarde te vullen\n",
    "    \n",
    "    return newDataframe\n",
    "\n",
    "outputDataframe = # ----Code hier"
   ]
  },
  {
   "cell_type": "markdown",
   "metadata": {},
   "source": [
    "### 3.4 String waarden naar numrical waarden transformeren\n",
    " "
   ]
  },
  {
   "cell_type": "markdown",
   "metadata": {},
   "source": [
    "Maak een functie die String waarden van een kolom, doorgegeven als parameter, omzet in numerieke waarden. Pas deze functie vervolgens toe op kolommen met string data in de Titanic dataset."
   ]
  },
  {
   "cell_type": "code",
   "execution_count": null,
   "metadata": {},
   "outputs": [],
   "source": [
    "def transformcolumns(dataframe):\n",
    "\n",
    "    # ----- Code hier\n",
    "    \n",
    "    return newDataframe\n",
    "\n",
    "outputDataframe = # ----Code hier"
   ]
  },
  {
   "cell_type": "markdown",
   "metadata": {},
   "source": [
    "### 3.5 Sla de features en het label (Survived) op in verschillende dataframes"
   ]
  },
  {
   "cell_type": "code",
   "execution_count": null,
   "metadata": {},
   "outputs": [],
   "source": [
    "x = \n",
    "y ="
   ]
  },
  {
   "cell_type": "markdown",
   "metadata": {},
   "source": [
    "### 3.6  z-score gebruiken om de data binnen de features te normaliseren\n",
    "Maak een functie die de normalisatie van de z-score gebruikt om de features te normaliseren.\n",
    "Je kunt de appendex raadplegen voor meer informatie over de z-score en om een voorbeeld te zien.\n"
   ]
  },
  {
   "cell_type": "code",
   "execution_count": null,
   "metadata": {},
   "outputs": [],
   "source": [
    "def normalizex(dataframe):\n",
    "\n",
    "    std_df =  #-----  code voor normalizatie\n",
    "    \n",
    "    return std_df\n",
    "\n",
    "outputDataframe = # ----Code hier"
   ]
  },
  {
   "cell_type": "markdown",
   "metadata": {},
   "source": [
    "# 4 Het Principal Component Analysis-algoritme (PCA) passen\n",
    "Maak een functie die een Principal Component Analysis-algoritme (PCA) creert\n"
   ]
  },
  {
   "cell_type": "code",
   "execution_count": null,
   "metadata": {},
   "outputs": [],
   "source": [
    "def pca(dataframe):\n",
    "    \n",
    "    pca = # ----- Code voor het pca object\n",
    "    \n",
    "    return pca\n",
    "\n",
    "pcaObject = # ----Code hier"
   ]
  },
  {
   "cell_type": "markdown",
   "metadata": {},
   "source": [
    "Maak een functie die de Principal components van de pca object krijgt"
   ]
  },
  {
   "cell_type": "code",
   "execution_count": null,
   "metadata": {},
   "outputs": [],
   "source": [
    "def getprincipalComponents(pca, dataframe):\n",
    "    \n",
    "    principalComponents = # ----Code hier\n",
    "    \n",
    "    return principalComponents\n",
    "    \n",
    "principlComponents = # ----Code hier"
   ]
  },
  {
   "cell_type": "markdown",
   "metadata": {},
   "source": [
    "Maak een functie die de \"explained variance\" van de pca object krijgt"
   ]
  },
  {
   "cell_type": "code",
   "execution_count": null,
   "metadata": {},
   "outputs": [],
   "source": [
    "def getVariance(pca):\n",
    "   \n",
    "    # ----Code hier\n",
    "\n",
    "# ----Code hier"
   ]
  },
  {
   "cell_type": "markdown",
   "metadata": {},
   "source": [
    "# 5 k-means passen toe op de resulterende dataset van PCA om groepen passagiers te creëren\n",
    "Maak een functie clustering die gebruikt the elbow method om het optimal aantal clusters te beperken. gebruik die function om nieuw labels te genereren.\n"
   ]
  },
  {
   "cell_type": "code",
   "execution_count": null,
   "metadata": {},
   "outputs": [],
   "source": [
    "def clustering(principlaComponents):\n",
    "    \n",
    "    np.random.seed(2)\n",
    "    \n",
    "    # ----- Code hier\n",
    "    #\n",
    "    # \n",
    "\n",
    "    return labels\n",
    "\n",
    "labels_kmeans = # ----Code hier"
   ]
  },
  {
   "cell_type": "markdown",
   "metadata": {},
   "source": [
    "Maak een functie validateClusturing die rekent uit de homogeneity and completeness van de clusters. "
   ]
  },
  {
   "cell_type": "code",
   "execution_count": null,
   "metadata": {},
   "outputs": [],
   "source": [
    "def validateClusturing(labels, target):\n",
    "    \n",
    "    # ----- Code hier\n",
    "    \n"
   ]
  },
  {
   "cell_type": "code",
   "execution_count": null,
   "metadata": {},
   "outputs": [],
   "source": []
  }
 ],
 "metadata": {
  "kernelspec": {
   "display_name": "Python 3",
   "language": "python",
   "name": "python3"
  }
 },
 "nbformat": 4,
 "nbformat_minor": 4
}
